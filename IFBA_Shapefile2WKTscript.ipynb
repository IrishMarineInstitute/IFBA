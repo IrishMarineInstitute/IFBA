{
 "cells": [
  {
   "cell_type": "code",
   "execution_count": 52,
   "metadata": {},
   "outputs": [],
   "source": [
    "### Script created by Caoimhín Kelly on 17/07/2018\n",
    "### Aim of task:\n",
    "### 1. To create a WKT version of a water frame directive shapefile.\n",
    "### Data is available at: http://gis.epa.ie/GetData/Download\n",
    "\n",
    "###Package list##\n",
    "import fiona\n",
    "from shapely.geometry import Polygon, LineString\n",
    "from shapely.geometry.multipolygon import MultiPolygon\n",
    "from shapely.geometry import shape\n",
    "import geopandas as gpd\n",
    "import matplotlib.pyplot as plt\n",
    "import fiona\n",
    "from geopandas import GeoDataFrame\n",
    "from fiona.crs import from_epsg\n",
    "from shapely.geometry import Point\n",
    "from shapely.wkt import loads\n",
    "from shapely.geometry import  MultiLineString, mapping, shape\n",
    "from shapely.wkt import dumps\n",
    "from pyproj import Proj, transform\n",
    "from fiona.crs import from_epsg\n",
    "\n",
    "%matplotlib inline"
   ]
  },
  {
   "cell_type": "markdown",
   "metadata": {},
   "source": [
    "## Please Note ## \n",
    "In order to plot Well Known Text on to a basemap shapefiles must be projected in WGS 1984 EPSG:4326."
   ]
  },
  {
   "cell_type": "markdown",
   "metadata": {},
   "source": [
    "First we set the local location of the shapefile"
   ]
  },
  {
   "cell_type": "code",
   "execution_count": 56,
   "metadata": {},
   "outputs": [],
   "source": [
    "##Initial all in the shapefile##\n",
    "shapefile_path = r\"File explorer path\\shapefile name.shp\""
   ]
  },
  {
   "cell_type": "markdown",
   "metadata": {},
   "source": [
    "## Create a geodataframe to list out column names within the shapefile ##\n",
    "Next we create a dataframe to list the column names. From the list select the columns required for an ID and a name which each feature can be asigned. With this dataset we will select Catch_ID and Name."
   ]
  },
  {
   "cell_type": "code",
   "execution_count": 54,
   "metadata": {},
   "outputs": [
    {
     "data": {
      "text/plain": [
       "Index(['Catch_ID', 'Name', 'Area_km2', 'DIST_CD', 'Shape_Leng', 'Shape_Area',\n",
       "       'geometry'],\n",
       "      dtype='object')"
      ]
     },
     "execution_count": 54,
     "metadata": {},
     "output_type": "execute_result"
    }
   ],
   "source": [
    "df = gpd.read_file(shapefile_path)\n",
    "df.columns"
   ]
  },
  {
   "cell_type": "markdown",
   "metadata": {},
   "source": [
    "## Code Instructions ##\n",
    "\n",
    "1. This is the start of the loop, pol is the name given to the layer \n",
    "   like in ArcGIS\n",
    "\n",
    "2. The loop needs a counter to know how long to iterate. Use the layer \n",
    "   name and objetID for other shapefiles change pol and Catch_ID\n",
    "    \n",
    "3. This is the inner loop. For every row in tre the geometry will be \n",
    "   converted.\n",
    "\n",
    "4. First we convert the geometry to become tfu\n",
    "\n",
    "5. The union function will convert all the sample multipolys into one \n",
    "   poly\n",
    "\n",
    "6. Now every new poly created will be rounded down to 5 decimal places\n",
    "        \n",
    "7. From here the file for each poly is created and all data from the  \n",
    "   associated poly is inserted into the correct file."
   ]
  },
  {
   "cell_type": "code",
   "execution_count": 55,
   "metadata": {},
   "outputs": [
    {
     "name": "stdout",
     "output_type": "stream",
     "text": [
      "Script has successfully completed\n"
     ]
    }
   ],
   "source": [
    "## This is the start of the loop ##\n",
    "## pol is the name given to the layer like in ArcGIS ##\n",
    "for pol in fiona.open(shapefile_path):\n",
    "    ##The loop needs a counter to know how long to iterate. Use the layer name and objetID for other shapefiles change pol and Catch_ID\n",
    "    tre =  pol['properties']['Catch_ID']\n",
    "    ##As the loop iterates the ID and name will be joined for the filename which the coordinates will be wrote to.\n",
    "    filename = pol['properties']['Catch_ID']+ pol['properties']['Name']+ \".txt\"\n",
    "    ## This is the inner loop. For every row in tre the geometry will be converted\n",
    "    for uol in tre:\n",
    "        #First we convert the geometry to become tfu\n",
    "        tfu = MultiPolygon([shape(pol['geometry'])])\n",
    "        #The union function will convert all the sample multipolys into one poly\n",
    "        a = tfu.union(tfu)\n",
    "        #a1 = a.wkt\n",
    "        #Now every new poly created will be rounded down to 5 decimal places\n",
    "        a2 = dumps(a, rounding_precision=5)\n",
    "        # From here the file for each poly is created and all data from the associated poly is inserted into the correct\n",
    "        # file.\n",
    "        f = open(filename, \"w\")\n",
    "        f.write(a2)\n",
    "        f.close()\n",
    "print(\"Script has successfully completed\")"
   ]
  },
  {
   "cell_type": "code",
   "execution_count": null,
   "metadata": {
    "scrolled": false
   },
   "outputs": [],
   "source": []
  }
 ],
 "metadata": {
  "kernelspec": {
   "display_name": "Python 3",
   "language": "python",
   "name": "python3"
  },
  "language_info": {
   "codemirror_mode": {
    "name": "ipython",
    "version": 3
   },
   "file_extension": ".py",
   "mimetype": "text/x-python",
   "name": "python",
   "nbconvert_exporter": "python",
   "pygments_lexer": "ipython3",
   "version": "3.7.1"
  }
 },
 "nbformat": 4,
 "nbformat_minor": 2
}
